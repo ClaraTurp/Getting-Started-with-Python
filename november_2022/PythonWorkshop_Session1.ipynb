{
 "cells": [
  {
   "cell_type": "markdown",
   "id": "fc84f3b4",
   "metadata": {},
   "source": [
    "# This is a heading\n",
    "\n",
    "## this is a subheading\n",
    "\n",
    "This is plain text\n",
    "\n",
    "* this is an unordered list\n",
    "- this is also an unordered list\n",
    "\n",
    "1. An ordered list\n",
    "    1.1 This ordered list has many levels."
   ]
  },
  {
   "cell_type": "markdown",
   "id": "05c03272",
   "metadata": {},
   "source": [
    "# Variables and Assignment"
   ]
  },
  {
   "cell_type": "code",
   "execution_count": 13,
   "id": "69c1b69c",
   "metadata": {},
   "outputs": [
    {
     "name": "stdout",
     "output_type": "stream",
     "text": [
      "35 Clara Turp\n",
      "\n"
     ]
    }
   ],
   "source": [
    "age = 35 # 35 is an integer (number)\n",
    "first_name = \"Clara\" # this is a string\n",
    "title = \"1984\" #This is also a string\n",
    "last_name = \"Turp\"\n",
    "\n",
    "\n",
    "print(age, first_name, last_name)\n",
    "print()"
   ]
  },
  {
   "cell_type": "code",
   "execution_count": 16,
   "id": "7827e11d",
   "metadata": {},
   "outputs": [
    {
     "name": "stdout",
     "output_type": "stream",
     "text": [
      "Clara Turp is 35 years old\n",
      "Clara Turp is 35 years old\n",
      "Clara likes the color yellow\n"
     ]
    }
   ],
   "source": [
    "color = \"yellow\"\n",
    "\n",
    "print(\"Clara Turp is 35 years old\")\n",
    "print(first_name, last_name, \"is\", age, \"years old\")\n",
    "print(first_name, \"likes the color\", color)"
   ]
  },
  {
   "cell_type": "code",
   "execution_count": 18,
   "id": "d9d18dee",
   "metadata": {},
   "outputs": [
    {
     "name": "stdout",
     "output_type": "stream",
     "text": [
      "38\n",
      "35\n"
     ]
    }
   ],
   "source": [
    "age = 35\n",
    "\n",
    "print(age + 3)\n",
    "print(age)"
   ]
  },
  {
   "cell_type": "code",
   "execution_count": 19,
   "id": "a5f25b64",
   "metadata": {},
   "outputs": [
    {
     "name": "stdout",
     "output_type": "stream",
     "text": [
      "38\n"
     ]
    }
   ],
   "source": [
    "age = 35\n",
    "age = age + 3\n",
    "\n",
    "print(age)"
   ]
  },
  {
   "cell_type": "code",
   "execution_count": 20,
   "id": "80f3f517",
   "metadata": {},
   "outputs": [
    {
     "name": "stdout",
     "output_type": "stream",
     "text": [
      "35 38\n"
     ]
    }
   ],
   "source": [
    "age = 35\n",
    "new_age = age + 3\n",
    "print(age, new_age)"
   ]
  },
  {
   "cell_type": "markdown",
   "id": "6431695e",
   "metadata": {},
   "source": [
    "## Use an index to get a single character from a string"
   ]
  },
  {
   "cell_type": "code",
   "execution_count": 25,
   "id": "7ad2961c",
   "metadata": {},
   "outputs": [
    {
     "name": "stdout",
     "output_type": "stream",
     "text": [
      "u\n"
     ]
    }
   ],
   "source": [
    "element = \"helium\" #Python starts counting from 0\n",
    "print(element[-2])"
   ]
  },
  {
   "cell_type": "markdown",
   "id": "4698169b",
   "metadata": {},
   "source": [
    "## Use a slice to get a substring"
   ]
  },
  {
   "cell_type": "code",
   "execution_count": 29,
   "id": "d9780d01",
   "metadata": {},
   "outputs": [
    {
     "name": "stdout",
     "output_type": "stream",
     "text": [
      "hel\n"
     ]
    }
   ],
   "source": [
    "element = \"helium\"\n",
    "print(element[:3]) # [start:stop at the one before]"
   ]
  },
  {
   "cell_type": "markdown",
   "id": "3430d03d",
   "metadata": {},
   "source": [
    "# Data types"
   ]
  },
  {
   "cell_type": "markdown",
   "id": "464dbb52",
   "metadata": {},
   "source": [
    "* Integer (int): whole numbers. 3, 3 000, -96\n",
    "* Floating point numbers (float): fractional numbers 2.987, 4.0\n",
    "* String (str): text. Quotation marks.\n",
    "* Booleans : True or False"
   ]
  },
  {
   "cell_type": "code",
   "execution_count": 31,
   "id": "ec4f5bd9",
   "metadata": {},
   "outputs": [
    {
     "name": "stdout",
     "output_type": "stream",
     "text": [
      "<class 'int'>\n",
      "<class 'bool'>\n",
      "<class 'float'>\n",
      "<class 'str'>\n"
     ]
    }
   ],
   "source": [
    "print(type(52))\n",
    "print(type(True))\n",
    "print(type(3.7653))\n",
    "print(type(\"hello world\"))\n"
   ]
  },
  {
   "cell_type": "markdown",
   "id": "341de0a9",
   "metadata": {},
   "source": [
    "## Types control what operations can be performed on a given value"
   ]
  },
  {
   "cell_type": "code",
   "execution_count": 33,
   "id": "92fedc41",
   "metadata": {},
   "outputs": [
    {
     "ename": "TypeError",
     "evalue": "unsupported operand type(s) for -: 'str' and 'str'",
     "output_type": "error",
     "traceback": [
      "\u001b[1;31m---------------------------------------------------------------------------\u001b[0m",
      "\u001b[1;31mTypeError\u001b[0m                                 Traceback (most recent call last)",
      "\u001b[1;32m~\\AppData\\Local\\Temp/ipykernel_17200/1825790288.py\u001b[0m in \u001b[0;36m<module>\u001b[1;34m\u001b[0m\n\u001b[1;32m----> 1\u001b[1;33m \u001b[0mprint\u001b[0m\u001b[1;33m(\u001b[0m\u001b[1;34m\"hello\"\u001b[0m \u001b[1;33m-\u001b[0m \u001b[1;34m\"o\"\u001b[0m\u001b[1;33m)\u001b[0m\u001b[1;33m\u001b[0m\u001b[1;33m\u001b[0m\u001b[0m\n\u001b[0m\u001b[0;32m      2\u001b[0m \u001b[0mprint\u001b[0m\u001b[1;33m(\u001b[0m\u001b[1;36m5\u001b[0m\u001b[1;33m-\u001b[0m\u001b[1;36m2\u001b[0m\u001b[1;33m)\u001b[0m\u001b[1;33m\u001b[0m\u001b[1;33m\u001b[0m\u001b[0m\n",
      "\u001b[1;31mTypeError\u001b[0m: unsupported operand type(s) for -: 'str' and 'str'"
     ]
    }
   ],
   "source": [
    "print(\"hello\" - \"o\")\n"
   ]
  },
  {
   "cell_type": "code",
   "execution_count": 34,
   "id": "7ab116ab",
   "metadata": {},
   "outputs": [
    {
     "name": "stdout",
     "output_type": "stream",
     "text": [
      "3\n"
     ]
    }
   ],
   "source": [
    "print(5-2)"
   ]
  },
  {
   "cell_type": "code",
   "execution_count": 36,
   "id": "e92a5dd2",
   "metadata": {},
   "outputs": [
    {
     "name": "stdout",
     "output_type": "stream",
     "text": [
      "Clara Turp\n"
     ]
    }
   ],
   "source": [
    "print(\"Clara\" + \" \" + \"Turp\")"
   ]
  },
  {
   "cell_type": "code",
   "execution_count": 37,
   "id": "80e7b0e8",
   "metadata": {},
   "outputs": [
    {
     "name": "stdout",
     "output_type": "stream",
     "text": [
      "ClaraClaraClaraClaraClaraClaraClaraClaraClaraClara\n"
     ]
    }
   ],
   "source": [
    "print(\"Clara\" * 10)"
   ]
  },
  {
   "cell_type": "code",
   "execution_count": 40,
   "id": "3f36bf68",
   "metadata": {},
   "outputs": [
    {
     "name": "stdout",
     "output_type": "stream",
     "text": [
      "3\n",
      "1375\n"
     ]
    }
   ],
   "source": [
    "print(int(\"1\") + 2)\n",
    "print(\"13\" + str(75))"
   ]
  },
  {
   "cell_type": "code",
   "execution_count": 41,
   "id": "ea27d466",
   "metadata": {},
   "outputs": [
    {
     "name": "stdout",
     "output_type": "stream",
     "text": [
      "1\n"
     ]
    }
   ],
   "source": [
    "print(int(1.889))"
   ]
  },
  {
   "cell_type": "code",
   "execution_count": 43,
   "id": "8e9822f0",
   "metadata": {},
   "outputs": [
    {
     "name": "stdout",
     "output_type": "stream",
     "text": [
      "half is 0.5\n",
      "three quared is 9.0\n"
     ]
    }
   ],
   "source": [
    "print(\"half is\", 1/2.0)\n",
    "print(\"three quared is\", 3.0 ** 2)"
   ]
  },
  {
   "cell_type": "markdown",
   "id": "76dae33c",
   "metadata": {},
   "source": [
    "# Some built-in functions and methods"
   ]
  },
  {
   "cell_type": "markdown",
   "id": "a4a13458",
   "metadata": {},
   "source": [
    "Functions are central programming.\n",
    "FunctionName(argument, arguments)"
   ]
  },
  {
   "cell_type": "markdown",
   "id": "1183fbfc",
   "metadata": {},
   "source": [
    "## len()> find the length of a string"
   ]
  },
  {
   "cell_type": "code",
   "execution_count": 44,
   "id": "f136268d",
   "metadata": {},
   "outputs": [
    {
     "name": "stdout",
     "output_type": "stream",
     "text": [
      "6\n"
     ]
    }
   ],
   "source": [
    "element = \"Helium\"\n",
    "print(len(element)) # Len is a nested function"
   ]
  },
  {
   "cell_type": "markdown",
   "id": "49f4df92",
   "metadata": {},
   "source": [
    "Return the last letter of the string using len().\n",
    "\n",
    "* variable[len(variable)-1]\n",
    "* variable[5]"
   ]
  },
  {
   "cell_type": "code",
   "execution_count": 45,
   "id": "3cc1c06c",
   "metadata": {},
   "outputs": [
    {
     "name": "stdout",
     "output_type": "stream",
     "text": [
      "m\n"
     ]
    }
   ],
   "source": [
    "print(element[len(element)-1])"
   ]
  },
  {
   "cell_type": "markdown",
   "id": "65c16bdf",
   "metadata": {},
   "source": [
    "## Use string methods: Upper() and lower()\n",
    "\n",
    "object_name.method_name()\n"
   ]
  },
  {
   "cell_type": "code",
   "execution_count": 46,
   "id": "6089be09",
   "metadata": {},
   "outputs": [
    {
     "name": "stdout",
     "output_type": "stream",
     "text": [
      "HELIUM\n"
     ]
    }
   ],
   "source": [
    "element = \"helium\"\n",
    "upper_element = element.upper()\n",
    "print(upper_element)"
   ]
  },
  {
   "cell_type": "markdown",
   "id": "a52b7385",
   "metadata": {},
   "source": [
    "# Built-in function max and min to find the largest and smallest value"
   ]
  },
  {
   "cell_type": "markdown",
   "id": "6307d668",
   "metadata": {},
   "source": [
    "Strings and numbers.\n",
    "* a is smaller than b\n",
    "* A is smaller than a\n",
    "* 0 is smaller than A"
   ]
  },
  {
   "cell_type": "code",
   "execution_count": 54,
   "id": "78325a2f",
   "metadata": {},
   "outputs": [
    {
     "name": "stdout",
     "output_type": "stream",
     "text": [
      "78\n",
      "-3\n",
      "g\n",
      "10\n"
     ]
    }
   ],
   "source": [
    "print(max(1, 2, 5, 78, 56))\n",
    "print(min(0.5, 5.75, -3, 587))\n",
    "print(max(\"a\", \"Total\", \"g\"))\n",
    "print(min(\"science\", \"total\", \"hebrew\", \"10\"))"
   ]
  },
  {
   "cell_type": "markdown",
   "id": "c03b5d7b",
   "metadata": {},
   "source": [
    "# Built in function round"
   ]
  },
  {
   "cell_type": "code",
   "execution_count": 57,
   "id": "03d2b06f",
   "metadata": {},
   "outputs": [
    {
     "name": "stdout",
     "output_type": "stream",
     "text": [
      "4\n",
      "7.9\n"
     ]
    }
   ],
   "source": [
    "print(round(3.798)) #Takes two arguments, the second is the number of decimals, where the default is 0\n",
    "print(round(7.898, 2))"
   ]
  },
  {
   "cell_type": "markdown",
   "id": "8c7f3697",
   "metadata": {},
   "source": [
    "# Use string method replace(), to find and replace."
   ]
  },
  {
   "cell_type": "code",
   "execution_count": 62,
   "id": "ec813ae0",
   "metadata": {},
   "outputs": [
    {
     "name": "stdout",
     "output_type": "stream",
     "text": [
      "James' favourite fruit is banana\n",
      "James' favourite fruit is orange\n"
     ]
    }
   ],
   "source": [
    "# string.replace(oldvalue, newvalue, count (optional, default = all))\n",
    "\n",
    "favourite_fruit = \"James' favourite fruit is banana\"\n",
    "print(favourite_fruit)\n",
    "\n",
    "new_string = favourite_fruit.replace(\"banana\", \"orange\")\n",
    "print(new_string)"
   ]
  },
  {
   "cell_type": "code",
   "execution_count": 64,
   "id": "125b41a7",
   "metadata": {},
   "outputs": [
    {
     "name": "stdout",
     "output_type": "stream",
     "text": [
      "James';favourite fruit is watermelon\n"
     ]
    }
   ],
   "source": [
    "favourite_fruit = \"James' favourite fruit is watermelon\"\n",
    "new_string = favourite_fruit.replace(\" \", \";\", 1)\n",
    "print(new_string)"
   ]
  },
  {
   "cell_type": "code",
   "execution_count": 65,
   "id": "65693f40",
   "metadata": {},
   "outputs": [
    {
     "name": "stdout",
     "output_type": "stream",
     "text": [
      "Help on built-in function round in module builtins:\n",
      "\n",
      "round(number, ndigits=None)\n",
      "    Round a number to a given precision in decimal digits.\n",
      "    \n",
      "    The return value is an integer if ndigits is omitted or None.  Otherwise\n",
      "    the return value has the same type as the number.  ndigits may be negative.\n",
      "\n"
     ]
    }
   ],
   "source": [
    "help(round)"
   ]
  },
  {
   "cell_type": "code",
   "execution_count": 66,
   "id": "b2f33858",
   "metadata": {},
   "outputs": [
    {
     "name": "stdout",
     "output_type": "stream",
     "text": [
      "hello world, i am learning python\n"
     ]
    }
   ],
   "source": [
    "python = \"HellO WORLd, I aM LearninG PyTHOn\"\n",
    "python_lower = python.lower() \n",
    "print(python_lower)"
   ]
  },
  {
   "cell_type": "code",
   "execution_count": 67,
   "id": "6ab2f3d3",
   "metadata": {},
   "outputs": [
    {
     "name": "stdout",
     "output_type": "stream",
     "text": [
      "cLe\n",
      "cLennan\n",
      "McLe\n",
      "McLennan\n",
      "Lenna\n"
     ]
    }
   ],
   "source": [
    "library = \"McLennan\"\n",
    "print(library[1:4])\n",
    "print(library[1:])\n",
    "print(library[:4])\n",
    "print(library[:])\n",
    "print(library[2:-1])\n"
   ]
  },
  {
   "cell_type": "code",
   "execution_count": 68,
   "id": "9b01f9cc",
   "metadata": {},
   "outputs": [
    {
     "name": "stdout",
     "output_type": "stream",
     "text": [
      "9\n"
     ]
    }
   ],
   "source": [
    "color = \"orange\"\n",
    "fruit = \"Tangerine\"\n",
    "\n",
    "print(max(len(color), len(fruit)))"
   ]
  },
  {
   "cell_type": "code",
   "execution_count": null,
   "id": "8967a48e",
   "metadata": {},
   "outputs": [],
   "source": []
  }
 ],
 "metadata": {
  "kernelspec": {
   "display_name": "Python 3 (ipykernel)",
   "language": "python",
   "name": "python3"
  },
  "language_info": {
   "codemirror_mode": {
    "name": "ipython",
    "version": 3
   },
   "file_extension": ".py",
   "mimetype": "text/x-python",
   "name": "python",
   "nbconvert_exporter": "python",
   "pygments_lexer": "ipython3",
   "version": "3.9.7"
  }
 },
 "nbformat": 4,
 "nbformat_minor": 5
}
