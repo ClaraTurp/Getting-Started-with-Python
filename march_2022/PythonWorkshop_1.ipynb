{
 "cells": [
  {
   "cell_type": "markdown",
   "id": "3c7590fa",
   "metadata": {},
   "source": [
    "# Python Workshop First Session"
   ]
  },
  {
   "cell_type": "code",
   "execution_count": 3,
   "id": "94f7d6f7",
   "metadata": {},
   "outputs": [
    {
     "name": "stdout",
     "output_type": "stream",
     "text": [
      "hello Clara\n"
     ]
    }
   ],
   "source": [
    "print(\"hello Clara\")"
   ]
  },
  {
   "cell_type": "markdown",
   "id": "a93743a2",
   "metadata": {},
   "source": [
    "# This is a heading\n",
    "## This is a subheading\n",
    "this is plain text\n",
    "* This is an unordered list\n",
    "- this is also an unordered list\n",
    "1. This is an ordered list\n",
    "   1.1 Multiple levels in my list\n",
    "\n",
    "This is a guide for [basic Markdown](https://www.markdownguide.org/basic-syntax/)"
   ]
  },
  {
   "cell_type": "markdown",
   "id": "bcc0fccb",
   "metadata": {},
   "source": [
    "# Variables and Assignments"
   ]
  },
  {
   "cell_type": "code",
   "execution_count": 8,
   "id": "07d935fd",
   "metadata": {},
   "outputs": [
    {
     "name": "stdout",
     "output_type": "stream",
     "text": [
      "Clara is 30 years old\n",
      "Simon is 35 years old\n"
     ]
    }
   ],
   "source": [
    "first_name = \"Simon\" # With quotation = string\n",
    "age = 35 # this is an integer\n",
    "title = \"1984\"\n",
    "\n",
    "print(\"Clara is 30 years old\")\n",
    "print(first_name, \"is\", age, \"years old\")"
   ]
  },
  {
   "cell_type": "code",
   "execution_count": 17,
   "id": "80b3be62",
   "metadata": {},
   "outputs": [
    {
     "name": "stdout",
     "output_type": "stream",
     "text": [
      "brown\n"
     ]
    }
   ],
   "source": [
    "print(eye_color)"
   ]
  },
  {
   "cell_type": "code",
   "execution_count": 18,
   "id": "ff339c85",
   "metadata": {},
   "outputs": [
    {
     "ename": "NameError",
     "evalue": "name 'last_name' is not defined",
     "output_type": "error",
     "traceback": [
      "\u001b[1;31m---------------------------------------------------------------------------\u001b[0m",
      "\u001b[1;31mNameError\u001b[0m                                 Traceback (most recent call last)",
      "\u001b[1;32m~\\AppData\\Local\\Temp/ipykernel_23124/2532117691.py\u001b[0m in \u001b[0;36m<module>\u001b[1;34m\u001b[0m\n\u001b[1;32m----> 1\u001b[1;33m \u001b[0mprint\u001b[0m\u001b[1;33m(\u001b[0m\u001b[0mlast_name\u001b[0m\u001b[1;33m)\u001b[0m\u001b[1;33m\u001b[0m\u001b[1;33m\u001b[0m\u001b[0m\n\u001b[0m",
      "\u001b[1;31mNameError\u001b[0m: name 'last_name' is not defined"
     ]
    }
   ],
   "source": [
    "print(last_name)"
   ]
  },
  {
   "cell_type": "markdown",
   "id": "d93d5e4c",
   "metadata": {},
   "source": [
    "## Variables can be used in calculations"
   ]
  },
  {
   "cell_type": "code",
   "execution_count": 19,
   "id": "0f2876ed",
   "metadata": {},
   "outputs": [
    {
     "name": "stdout",
     "output_type": "stream",
     "text": [
      "38\n"
     ]
    }
   ],
   "source": [
    "age = 35\n",
    "print(age + 3)"
   ]
  },
  {
   "cell_type": "code",
   "execution_count": 20,
   "id": "8982f92d",
   "metadata": {},
   "outputs": [
    {
     "name": "stdout",
     "output_type": "stream",
     "text": [
      "38\n"
     ]
    }
   ],
   "source": [
    "age = 35\n",
    "age = age + 3\n",
    "print(age)"
   ]
  },
  {
   "cell_type": "code",
   "execution_count": 21,
   "id": "4e179a3f",
   "metadata": {},
   "outputs": [
    {
     "name": "stdout",
     "output_type": "stream",
     "text": [
      "35 38\n"
     ]
    }
   ],
   "source": [
    "age = 35\n",
    "age_plus_three = age + 3\n",
    "print(age, age_plus_three)"
   ]
  },
  {
   "cell_type": "markdown",
   "id": "bd255317",
   "metadata": {},
   "source": [
    "## Use an index to get a single character from a string"
   ]
  },
  {
   "cell_type": "code",
   "execution_count": 25,
   "id": "46e49263",
   "metadata": {},
   "outputs": [
    {
     "name": "stdout",
     "output_type": "stream",
     "text": [
      "u\n"
     ]
    }
   ],
   "source": [
    "element = \"helium\"\n",
    "print(element[-2])"
   ]
  },
  {
   "cell_type": "markdown",
   "id": "a098e452",
   "metadata": {},
   "source": [
    "### Use slice to get a substring"
   ]
  },
  {
   "cell_type": "code",
   "execution_count": 32,
   "id": "7717939a",
   "metadata": {},
   "outputs": [
    {
     "name": "stdout",
     "output_type": "stream",
     "text": [
      "he\n",
      "um\n"
     ]
    }
   ],
   "source": [
    "element = \"helium\"\n",
    "print(element[:2])#slice\n",
    "print(element[-2:])"
   ]
  },
  {
   "cell_type": "markdown",
   "id": "d0286b10",
   "metadata": {},
   "source": [
    "# Data Types"
   ]
  },
  {
   "cell_type": "code",
   "execution_count": 33,
   "id": "47438f9a",
   "metadata": {},
   "outputs": [],
   "source": [
    "integer = -516\n",
    "string = \"this is a string\"\n",
    "moreString = 'This is also a string'\n",
    "float = 1.34\n",
    "moreFloat = 1.0\n",
    "boolean = True # True needs to start with an upperCase\n",
    "boolean_again = False"
   ]
  },
  {
   "cell_type": "markdown",
   "id": "26bc8d1b",
   "metadata": {},
   "source": [
    "## type is a built-in function that returns the type of a value "
   ]
  },
  {
   "cell_type": "code",
   "execution_count": 36,
   "id": "9d6c4aac",
   "metadata": {},
   "outputs": [
    {
     "name": "stdout",
     "output_type": "stream",
     "text": [
      "<class 'int'>\n",
      "<class 'bool'>\n",
      "<class 'float'>\n",
      "<class 'str'>\n"
     ]
    }
   ],
   "source": [
    "print(type(35))\n",
    "print(type(False))\n",
    "print(type(3.765321))\n",
    "print(type(\"hello world\"))"
   ]
  },
  {
   "cell_type": "code",
   "execution_count": 37,
   "id": "22929627",
   "metadata": {},
   "outputs": [
    {
     "ename": "TypeError",
     "evalue": "unsupported operand type(s) for -: 'str' and 'str'",
     "output_type": "error",
     "traceback": [
      "\u001b[1;31m---------------------------------------------------------------------------\u001b[0m",
      "\u001b[1;31mTypeError\u001b[0m                                 Traceback (most recent call last)",
      "\u001b[1;32m~\\AppData\\Local\\Temp/ipykernel_23124/652130252.py\u001b[0m in \u001b[0;36m<module>\u001b[1;34m\u001b[0m\n\u001b[1;32m----> 1\u001b[1;33m \u001b[0mprint\u001b[0m\u001b[1;33m(\u001b[0m\u001b[1;34m\"hello\"\u001b[0m \u001b[1;33m-\u001b[0m \u001b[1;34m\"o\"\u001b[0m\u001b[1;33m)\u001b[0m\u001b[1;33m\u001b[0m\u001b[1;33m\u001b[0m\u001b[0m\n\u001b[0m",
      "\u001b[1;31mTypeError\u001b[0m: unsupported operand type(s) for -: 'str' and 'str'"
     ]
    }
   ],
   "source": [
    "print(\"hello\" - \"o\")"
   ]
  },
  {
   "cell_type": "code",
   "execution_count": 40,
   "id": "34e5cfe7",
   "metadata": {},
   "outputs": [
    {
     "name": "stdout",
     "output_type": "stream",
     "text": [
      "hello Clara\n"
     ]
    }
   ],
   "source": [
    "print(\"hell\" + \"o\" + \" \" + \"Clara\")"
   ]
  },
  {
   "cell_type": "code",
   "execution_count": 41,
   "id": "06c4d01a",
   "metadata": {},
   "outputs": [
    {
     "name": "stdout",
     "output_type": "stream",
     "text": [
      "hellohellohellohellohellohellohellohellohellohello\n"
     ]
    }
   ],
   "source": [
    "print(\"hello\" * 10)"
   ]
  },
  {
   "cell_type": "code",
   "execution_count": 42,
   "id": "61d6a8ec",
   "metadata": {},
   "outputs": [
    {
     "name": "stdout",
     "output_type": "stream",
     "text": [
      "618\n"
     ]
    }
   ],
   "source": [
    "print(3+615)"
   ]
  },
  {
   "cell_type": "code",
   "execution_count": 44,
   "id": "aa52aeb6",
   "metadata": {},
   "outputs": [
    {
     "name": "stdout",
     "output_type": "stream",
     "text": [
      "24\n"
     ]
    }
   ],
   "source": [
    "print(1 + int(\"23\"))"
   ]
  },
  {
   "cell_type": "code",
   "execution_count": 45,
   "id": "cf0316fb",
   "metadata": {},
   "outputs": [
    {
     "name": "stdout",
     "output_type": "stream",
     "text": [
      "123\n"
     ]
    }
   ],
   "source": [
    "print(str(1) + \"23\")"
   ]
  },
  {
   "cell_type": "code",
   "execution_count": 46,
   "id": "dd471371",
   "metadata": {},
   "outputs": [
    {
     "name": "stdout",
     "output_type": "stream",
     "text": [
      "4.4\n"
     ]
    }
   ],
   "source": [
    "print(1 + 3.4)"
   ]
  },
  {
   "cell_type": "code",
   "execution_count": 49,
   "id": "a98a138d",
   "metadata": {},
   "outputs": [
    {
     "name": "stdout",
     "output_type": "stream",
     "text": [
      "1\n"
     ]
    }
   ],
   "source": [
    "print(int(1.9999999))"
   ]
  },
  {
   "cell_type": "code",
   "execution_count": 50,
   "id": "e492938f",
   "metadata": {},
   "outputs": [
    {
     "name": "stdout",
     "output_type": "stream",
     "text": [
      "half is 0.5\n"
     ]
    }
   ],
   "source": [
    "print(\"half is\", 1/2.0)"
   ]
  },
  {
   "cell_type": "code",
   "execution_count": 52,
   "id": "f5140d89",
   "metadata": {},
   "outputs": [
    {
     "name": "stdout",
     "output_type": "stream",
     "text": [
      "2.0\n"
     ]
    }
   ],
   "source": [
    "print(2/1)"
   ]
  },
  {
   "cell_type": "markdown",
   "id": "b1288432",
   "metadata": {},
   "source": [
    "# Some built in Functions and Methods"
   ]
  },
  {
   "cell_type": "code",
   "execution_count": 57,
   "id": "c691e501",
   "metadata": {},
   "outputs": [
    {
     "name": "stdout",
     "output_type": "stream",
     "text": [
      "6\n"
     ]
    }
   ],
   "source": [
    "element = \"Helium\"\n",
    "print(len(element)) #len()"
   ]
  },
  {
   "cell_type": "code",
   "execution_count": 60,
   "id": "ee044860",
   "metadata": {},
   "outputs": [
    {
     "name": "stdout",
     "output_type": "stream",
     "text": [
      "m\n"
     ]
    }
   ],
   "source": [
    "element = \"helium\"\n",
    "elementLen = len(element)\n",
    "print(element[len(element) - 1])"
   ]
  },
  {
   "cell_type": "markdown",
   "id": "8751634b",
   "metadata": {},
   "source": [
    "## Upper and Lower"
   ]
  },
  {
   "cell_type": "code",
   "execution_count": 61,
   "id": "3696a451",
   "metadata": {},
   "outputs": [
    {
     "name": "stdout",
     "output_type": "stream",
     "text": [
      "HELIUM\n"
     ]
    }
   ],
   "source": [
    "#object.method()\n",
    "element = \"helium\"\n",
    "upper_element = element.upper()\n",
    "print(upper_element)"
   ]
  },
  {
   "cell_type": "markdown",
   "id": "4e06f0f4",
   "metadata": {},
   "source": [
    "## max and min\n",
    "0-9,A-Z, a-z\n",
    "* A is smaller than a\n",
    "* 0 is smaller than A"
   ]
  },
  {
   "cell_type": "code",
   "execution_count": 62,
   "id": "cd25fb62",
   "metadata": {},
   "outputs": [
    {
     "name": "stdout",
     "output_type": "stream",
     "text": [
      "78\n"
     ]
    }
   ],
   "source": [
    "print(max(1,2,5,78,56))"
   ]
  },
  {
   "cell_type": "code",
   "execution_count": 63,
   "id": "e3b54aea",
   "metadata": {},
   "outputs": [
    {
     "name": "stdout",
     "output_type": "stream",
     "text": [
      "-3\n"
     ]
    }
   ],
   "source": [
    "print(min(0.5, 5.75, -3, 587))"
   ]
  },
  {
   "cell_type": "code",
   "execution_count": 66,
   "id": "c72d7806",
   "metadata": {},
   "outputs": [
    {
     "name": "stdout",
     "output_type": "stream",
     "text": [
      "10\n"
     ]
    }
   ],
   "source": [
    "print(min(\"science\", \"total\", \"hebrew\", \"10\"))"
   ]
  },
  {
   "cell_type": "markdown",
   "id": "36f0ba83",
   "metadata": {},
   "source": [
    "## Round is a built in function that rounds off numbers"
   ]
  },
  {
   "cell_type": "code",
   "execution_count": 91,
   "id": "e9c326b6",
   "metadata": {},
   "outputs": [
    {
     "name": "stdout",
     "output_type": "stream",
     "text": [
      "3\n"
     ]
    }
   ],
   "source": [
    "print(round(3))"
   ]
  },
  {
   "cell_type": "markdown",
   "id": "21926672",
   "metadata": {},
   "source": [
    "## Replace() "
   ]
  },
  {
   "cell_type": "code",
   "execution_count": 78,
   "id": "cb5a183d",
   "metadata": {},
   "outputs": [
    {
     "name": "stdout",
     "output_type": "stream",
     "text": [
      "James' favorite fruit is banana James' favorite fruit is orange\n"
     ]
    }
   ],
   "source": [
    "favorite_fruit = \"James' favorite fruit is banana\"\n",
    "new_favorite_fruit = favorite_fruit.replace(\"banana\", \"orange\")\n",
    "print(favorite_fruit, new_favorite_fruit)"
   ]
  },
  {
   "cell_type": "code",
   "execution_count": 84,
   "id": "c23a6052",
   "metadata": {},
   "outputs": [
    {
     "name": "stdout",
     "output_type": "stream",
     "text": [
      "James';favorite;fruit;is;banana\n"
     ]
    }
   ],
   "source": [
    "favorite_fruit = \"James' favorite fruit is banana\"\n",
    "new_string = favorite_fruit.replace(\" \", \";\")\n",
    "print(new_string)"
   ]
  },
  {
   "cell_type": "code",
   "execution_count": 86,
   "id": "e8e7526b",
   "metadata": {},
   "outputs": [
    {
     "name": "stdout",
     "output_type": "stream",
     "text": [
      "Help on built-in function round in module builtins:\n",
      "\n",
      "round(number, ndigits=None)\n",
      "    Round a number to a given precision in decimal digits.\n",
      "    \n",
      "    The return value is an integer if ndigits is omitted or None.  Otherwise\n",
      "    the return value has the same type as the number.  ndigits may be negative.\n",
      "\n"
     ]
    }
   ],
   "source": [
    "help(round)"
   ]
  },
  {
   "cell_type": "code",
   "execution_count": 93,
   "id": "8f3fe836",
   "metadata": {},
   "outputs": [
    {
     "name": "stdout",
     "output_type": "stream",
     "text": [
      "9\n"
     ]
    }
   ],
   "source": [
    "color = \"orange\"\n",
    "fruit = \"tangerine\"\n",
    "\n",
    "print(max(len(color), len(fruit)))"
   ]
  },
  {
   "cell_type": "code",
   "execution_count": 94,
   "id": "1b13920c",
   "metadata": {},
   "outputs": [
    {
     "name": "stdout",
     "output_type": "stream",
     "text": [
      "hello world, i am learning python\n"
     ]
    }
   ],
   "source": [
    "python = \"Hello World, I am learning PYTHON\"\n",
    "python_lower = python.lower()\n",
    "print(python_lower)"
   ]
  },
  {
   "cell_type": "markdown",
   "id": "001dd63f",
   "metadata": {},
   "source": [
    "* Create a sentence that contains a list of ingredients to make pizza.\n",
    "* Use commas between each ingredients\n",
    "* Replace all commas with semicolons"
   ]
  },
  {
   "cell_type": "code",
   "execution_count": 96,
   "id": "43da6937",
   "metadata": {},
   "outputs": [
    {
     "name": "stdout",
     "output_type": "stream",
     "text": [
      "My pizza contains: Cheese; dough; bacon; oignons, tomatoes, spinach\n"
     ]
    }
   ],
   "source": [
    "pizza = \"My pizza contains: Cheese, dough, bacon, oignons, tomatoes, spinach\"\n",
    "new_list = pizza.replace(\",\",\";\", 3)\n",
    "print(new_list)"
   ]
  },
  {
   "cell_type": "code",
   "execution_count": 102,
   "id": "fbb0889d",
   "metadata": {},
   "outputs": [
    {
     "name": "stdout",
     "output_type": "stream",
     "text": [
      "My Pi\n",
      "y Pizza contains cheese\n",
      "My Pizza contains chees\n",
      "My Pizza contains cheese\n",
      "y Pizza contains chees\n",
      "ese\n"
     ]
    }
   ],
   "source": [
    "pizza = \"My Pizza contains cheese\"\n",
    "print(pizza[0:5])\n",
    "print(pizza[1:])\n",
    "print(pizza[:-1])\n",
    "print(pizza[:])\n",
    "print(pizza[1:-1])\n",
    "print(pizza[-3:])"
   ]
  },
  {
   "cell_type": "code",
   "execution_count": null,
   "id": "71fedf3d",
   "metadata": {},
   "outputs": [],
   "source": []
  }
 ],
 "metadata": {
  "kernelspec": {
   "display_name": "Python 3 (ipykernel)",
   "language": "python",
   "name": "python3"
  },
  "language_info": {
   "codemirror_mode": {
    "name": "ipython",
    "version": 3
   },
   "file_extension": ".py",
   "mimetype": "text/x-python",
   "name": "python",
   "nbconvert_exporter": "python",
   "pygments_lexer": "ipython3",
   "version": "3.9.7"
  }
 },
 "nbformat": 4,
 "nbformat_minor": 5
}
