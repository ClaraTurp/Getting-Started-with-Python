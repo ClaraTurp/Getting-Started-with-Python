{
 "cells": [
  {
   "cell_type": "markdown",
   "id": "5db9bb72",
   "metadata": {},
   "source": [
    "# Python Workshop Second Session"
   ]
  },
  {
   "cell_type": "markdown",
   "id": "dd3a1305",
   "metadata": {},
   "source": [
    "## Lists"
   ]
  },
  {
   "cell_type": "code",
   "execution_count": 2,
   "id": "40552548",
   "metadata": {},
   "outputs": [
    {
     "name": "stdout",
     "output_type": "stream",
     "text": [
      "[]\n"
     ]
    }
   ],
   "source": [
    "temperature_001 = 73.4\n",
    "temperature_002 = 23.6\n",
    "temperature_003 = 35\n",
    "\n",
    "temperatures = []\n",
    "print(temperatures)"
   ]
  },
  {
   "cell_type": "code",
   "execution_count": 3,
   "id": "90627498",
   "metadata": {},
   "outputs": [
    {
     "name": "stdout",
     "output_type": "stream",
     "text": [
      "[17.3, 17.5, 17.8, 17.6, 17.3]\n"
     ]
    }
   ],
   "source": [
    "temperatures = [17.3, 17.5, 17.8, 17.6, 17.3]\n",
    "print(temperatures)"
   ]
  },
  {
   "cell_type": "code",
   "execution_count": 4,
   "id": "5ad41c95",
   "metadata": {},
   "outputs": [
    {
     "name": "stdout",
     "output_type": "stream",
     "text": [
      "5\n"
     ]
    }
   ],
   "source": [
    "print(len(temperatures))"
   ]
  },
  {
   "cell_type": "code",
   "execution_count": 8,
   "id": "de1900b4",
   "metadata": {},
   "outputs": [
    {
     "name": "stdout",
     "output_type": "stream",
     "text": [
      "[17.3, 17.4, 17.8, 17.6, 17.2]\n"
     ]
    }
   ],
   "source": [
    "temperatures = [17.3, 17.5, 17.8, 17.6, 17.2]\n",
    "temperatures[1] = 17.4\n",
    "print(temperatures)"
   ]
  },
  {
   "cell_type": "markdown",
   "id": "12e7649e",
   "metadata": {},
   "source": [
    "### Append to a list or deleting items from a list"
   ]
  },
  {
   "cell_type": "code",
   "execution_count": 9,
   "id": "11ae2629",
   "metadata": {},
   "outputs": [
    {
     "name": "stdout",
     "output_type": "stream",
     "text": [
      "[17.3, 17.5, 17.8, 17.6, 17.2, 19.7]\n"
     ]
    }
   ],
   "source": [
    "temperatures = [17.3, 17.5, 17.8, 17.6, 17.2]\n",
    "temperatures.append(19.7)\n",
    "print(temperatures)"
   ]
  },
  {
   "cell_type": "code",
   "execution_count": 10,
   "id": "90e153d1",
   "metadata": {},
   "outputs": [
    {
     "name": "stdout",
     "output_type": "stream",
     "text": [
      "Help on class list in module builtins:\n",
      "\n",
      "class list(object)\n",
      " |  list(iterable=(), /)\n",
      " |  \n",
      " |  Built-in mutable sequence.\n",
      " |  \n",
      " |  If no argument is given, the constructor creates a new empty list.\n",
      " |  The argument must be an iterable if specified.\n",
      " |  \n",
      " |  Methods defined here:\n",
      " |  \n",
      " |  __add__(self, value, /)\n",
      " |      Return self+value.\n",
      " |  \n",
      " |  __contains__(self, key, /)\n",
      " |      Return key in self.\n",
      " |  \n",
      " |  __delitem__(self, key, /)\n",
      " |      Delete self[key].\n",
      " |  \n",
      " |  __eq__(self, value, /)\n",
      " |      Return self==value.\n",
      " |  \n",
      " |  __ge__(self, value, /)\n",
      " |      Return self>=value.\n",
      " |  \n",
      " |  __getattribute__(self, name, /)\n",
      " |      Return getattr(self, name).\n",
      " |  \n",
      " |  __getitem__(...)\n",
      " |      x.__getitem__(y) <==> x[y]\n",
      " |  \n",
      " |  __gt__(self, value, /)\n",
      " |      Return self>value.\n",
      " |  \n",
      " |  __iadd__(self, value, /)\n",
      " |      Implement self+=value.\n",
      " |  \n",
      " |  __imul__(self, value, /)\n",
      " |      Implement self*=value.\n",
      " |  \n",
      " |  __init__(self, /, *args, **kwargs)\n",
      " |      Initialize self.  See help(type(self)) for accurate signature.\n",
      " |  \n",
      " |  __iter__(self, /)\n",
      " |      Implement iter(self).\n",
      " |  \n",
      " |  __le__(self, value, /)\n",
      " |      Return self<=value.\n",
      " |  \n",
      " |  __len__(self, /)\n",
      " |      Return len(self).\n",
      " |  \n",
      " |  __lt__(self, value, /)\n",
      " |      Return self<value.\n",
      " |  \n",
      " |  __mul__(self, value, /)\n",
      " |      Return self*value.\n",
      " |  \n",
      " |  __ne__(self, value, /)\n",
      " |      Return self!=value.\n",
      " |  \n",
      " |  __repr__(self, /)\n",
      " |      Return repr(self).\n",
      " |  \n",
      " |  __reversed__(self, /)\n",
      " |      Return a reverse iterator over the list.\n",
      " |  \n",
      " |  __rmul__(self, value, /)\n",
      " |      Return value*self.\n",
      " |  \n",
      " |  __setitem__(self, key, value, /)\n",
      " |      Set self[key] to value.\n",
      " |  \n",
      " |  __sizeof__(self, /)\n",
      " |      Return the size of the list in memory, in bytes.\n",
      " |  \n",
      " |  append(self, object, /)\n",
      " |      Append object to the end of the list.\n",
      " |  \n",
      " |  clear(self, /)\n",
      " |      Remove all items from list.\n",
      " |  \n",
      " |  copy(self, /)\n",
      " |      Return a shallow copy of the list.\n",
      " |  \n",
      " |  count(self, value, /)\n",
      " |      Return number of occurrences of value.\n",
      " |  \n",
      " |  extend(self, iterable, /)\n",
      " |      Extend list by appending elements from the iterable.\n",
      " |  \n",
      " |  index(self, value, start=0, stop=9223372036854775807, /)\n",
      " |      Return first index of value.\n",
      " |      \n",
      " |      Raises ValueError if the value is not present.\n",
      " |  \n",
      " |  insert(self, index, object, /)\n",
      " |      Insert object before index.\n",
      " |  \n",
      " |  pop(self, index=-1, /)\n",
      " |      Remove and return item at index (default last).\n",
      " |      \n",
      " |      Raises IndexError if list is empty or index is out of range.\n",
      " |  \n",
      " |  remove(self, value, /)\n",
      " |      Remove first occurrence of value.\n",
      " |      \n",
      " |      Raises ValueError if the value is not present.\n",
      " |  \n",
      " |  reverse(self, /)\n",
      " |      Reverse *IN PLACE*.\n",
      " |  \n",
      " |  sort(self, /, *, key=None, reverse=False)\n",
      " |      Sort the list in ascending order and return None.\n",
      " |      \n",
      " |      The sort is in-place (i.e. the list itself is modified) and stable (i.e. the\n",
      " |      order of two equal elements is maintained).\n",
      " |      \n",
      " |      If a key function is given, apply it once to each list item and sort them,\n",
      " |      ascending or descending, according to their function values.\n",
      " |      \n",
      " |      The reverse flag can be set to sort in descending order.\n",
      " |  \n",
      " |  ----------------------------------------------------------------------\n",
      " |  Class methods defined here:\n",
      " |  \n",
      " |  __class_getitem__(...) from builtins.type\n",
      " |      See PEP 585\n",
      " |  \n",
      " |  ----------------------------------------------------------------------\n",
      " |  Static methods defined here:\n",
      " |  \n",
      " |  __new__(*args, **kwargs) from builtins.type\n",
      " |      Create and return a new object.  See help(type) for accurate signature.\n",
      " |  \n",
      " |  ----------------------------------------------------------------------\n",
      " |  Data and other attributes defined here:\n",
      " |  \n",
      " |  __hash__ = None\n",
      "\n"
     ]
    }
   ],
   "source": [
    "help(list)"
   ]
  },
  {
   "cell_type": "code",
   "execution_count": 12,
   "id": "37e9c553",
   "metadata": {},
   "outputs": [
    {
     "name": "stdout",
     "output_type": "stream",
     "text": [
      "primes after removing last item: [2, 3, 5, 7]\n"
     ]
    }
   ],
   "source": [
    "primes = [2,3,5,7,9]\n",
    "del primes[4]\n",
    "print(\"primes after removing last item:\", primes)"
   ]
  },
  {
   "cell_type": "code",
   "execution_count": 14,
   "id": "cb584923",
   "metadata": {},
   "outputs": [
    {
     "name": "stdout",
     "output_type": "stream",
     "text": [
      "[2, 3, 5, '']\n"
     ]
    }
   ],
   "source": [
    "primes[3] = \"\"\n",
    "print(primes)"
   ]
  },
  {
   "cell_type": "code",
   "execution_count": 15,
   "id": "61d9da41",
   "metadata": {},
   "outputs": [
    {
     "name": "stdout",
     "output_type": "stream",
     "text": [
      "[12, [1, 5, 9], 'hello world', 13.5]\n"
     ]
    }
   ],
   "source": [
    "values = [12, [1, 5, 9], \"hello world\", 13.5 ]\n",
    "print(values)"
   ]
  },
  {
   "cell_type": "markdown",
   "id": "b7348318",
   "metadata": {},
   "source": [
    "## Conditionals"
   ]
  },
  {
   "cell_type": "markdown",
   "id": "1c93bd1e",
   "metadata": {},
   "source": [
    "if x then:\n",
    "    Do a\n",
    "if y then:\n",
    "    Do b\n",
    "\n",
    "< > == (equal) != (not equal) <="
   ]
  },
  {
   "cell_type": "code",
   "execution_count": 19,
   "id": "7278e243",
   "metadata": {},
   "outputs": [
    {
     "name": "stdout",
     "output_type": "stream",
     "text": [
      "3.54 is larger\n"
     ]
    }
   ],
   "source": [
    "mass = 3.54\n",
    "if mass > 3.0:\n",
    "    print(mass, \"is larger\")\n",
    "if mass < 3.0:\n",
    "    print(mass, \"is smaller\")\n",
    "    print(\"mass is\", mass)"
   ]
  },
  {
   "cell_type": "code",
   "execution_count": 20,
   "id": "eea311d4",
   "metadata": {},
   "outputs": [
    {
     "name": "stdout",
     "output_type": "stream",
     "text": [
      "2.97 is not three\n"
     ]
    }
   ],
   "source": [
    "mass = 2.97\n",
    "if mass != 3.0:\n",
    "    print(mass, \"is not three\")\n",
    "if mass == 3.0:\n",
    "    print(mass, \"is three\")"
   ]
  },
  {
   "cell_type": "markdown",
   "id": "0289b41d",
   "metadata": {},
   "source": [
    "### Else > executes when the condition is not met"
   ]
  },
  {
   "cell_type": "code",
   "execution_count": 22,
   "id": "11aa66f2",
   "metadata": {},
   "outputs": [
    {
     "name": "stdout",
     "output_type": "stream",
     "text": [
      "3.0 is smaller or equal\n"
     ]
    }
   ],
   "source": [
    "mass = 3.0\n",
    "if mass > 3.0:\n",
    "    print(mass, \"is larger\")\n",
    "else:\n",
    "    print(mass, \"is smaller or equal\")"
   ]
  },
  {
   "cell_type": "code",
   "execution_count": 25,
   "id": "443cd292",
   "metadata": {},
   "outputs": [
    {
     "name": "stdout",
     "output_type": "stream",
     "text": [
      "10.2 is huge\n"
     ]
    }
   ],
   "source": [
    "mass = 10.2\n",
    "if mass > 9.0:\n",
    "    print(mass, \"is huge\")\n",
    "elif mass > 3.0:\n",
    "    print(mass, \"is larger\")\n",
    "    # elif (else if) stops when a match is found\n",
    "else:\n",
    "    print(mass, \"is smaller\")"
   ]
  },
  {
   "cell_type": "code",
   "execution_count": 27,
   "id": "2991662d",
   "metadata": {},
   "outputs": [
    {
     "name": "stdout",
     "output_type": "stream",
     "text": [
      "Grade is B\n"
     ]
    }
   ],
   "source": [
    "grade = 85\n",
    "\n",
    "if grade >= 90:\n",
    "    print(\"Grade is A\")\n",
    "elif grade >= 80:\n",
    "    print(\"Grade is B\")\n",
    "elif grade >= 70:\n",
    "    print(\"Grade is C\")\n",
    "else:\n",
    "    print(\"failed\")"
   ]
  },
  {
   "cell_type": "markdown",
   "id": "13e01349",
   "metadata": {},
   "source": [
    "## For Loop"
   ]
  },
  {
   "cell_type": "code",
   "execution_count": 28,
   "id": "913a896f",
   "metadata": {},
   "outputs": [
    {
     "name": "stdout",
     "output_type": "stream",
     "text": [
      "17.5\n",
      "15.9\n",
      "19.4\n",
      "21.1\n"
     ]
    }
   ],
   "source": [
    "temperature_01 = 17.5\n",
    "temperature_02 = 15.9\n",
    "temperature_03 = 19.4\n",
    "temperature_04 = 21.1\n",
    "\n",
    "print(temperature_01)\n",
    "print(temperature_02)\n",
    "print(temperature_03)\n",
    "print(temperature_04)"
   ]
  },
  {
   "cell_type": "code",
   "execution_count": 31,
   "id": "26ad535c",
   "metadata": {},
   "outputs": [
    {
     "name": "stdout",
     "output_type": "stream",
     "text": [
      "17.5\n",
      "15.9\n",
      "19.4\n",
      "21.1\n",
      "yeah\n"
     ]
    }
   ],
   "source": [
    "# for each thing in a collection, do these operations\n",
    "for temperature in [17.5, 15.9, 19.4, 21.1]:\n",
    "    print(temperature)\n",
    "print(\"yeah\")"
   ]
  },
  {
   "cell_type": "code",
   "execution_count": 35,
   "id": "17a79b49",
   "metadata": {},
   "outputs": [
    {
     "name": "stdout",
     "output_type": "stream",
     "text": [
      "17.2\n",
      "16.8\n",
      "19.2\n",
      "23.8\n",
      "31.5\n"
     ]
    }
   ],
   "source": [
    "temperatures = [17.2, 16.8, 19.2, 23.8, 31.5]\n",
    "for current_temperature in temperatures:\n",
    "    print(current_temperature)"
   ]
  },
  {
   "cell_type": "code",
   "execution_count": 36,
   "id": "92d4b2fd",
   "metadata": {},
   "outputs": [
    {
     "name": "stdout",
     "output_type": "stream",
     "text": [
      "2 4 8\n",
      "3 9 27\n",
      "5 25 125\n",
      "7 49 343\n"
     ]
    }
   ],
   "source": [
    "primes = [2, 3, 5, 7]\n",
    "for number in primes:\n",
    "    squared = number ** 2\n",
    "    cubed = number ** 3\n",
    "    print(number, squared, cubed)"
   ]
  },
  {
   "cell_type": "markdown",
   "id": "d7300ff3",
   "metadata": {},
   "source": [
    "### use range to iterate over a sequence of numbers"
   ]
  },
  {
   "cell_type": "code",
   "execution_count": 37,
   "id": "1b1f4932",
   "metadata": {},
   "outputs": [
    {
     "name": "stdout",
     "output_type": "stream",
     "text": [
      "0\n",
      "1\n",
      "2\n"
     ]
    }
   ],
   "source": [
    "for number in range(0,3):\n",
    "    print(number)\n",
    "# Range(n) = N-1"
   ]
  },
  {
   "cell_type": "code",
   "execution_count": 38,
   "id": "efae06e3",
   "metadata": {},
   "outputs": [
    {
     "name": "stdout",
     "output_type": "stream",
     "text": [
      "0\n",
      "1\n",
      "2\n"
     ]
    }
   ],
   "source": [
    "numbers = range(0,3)\n",
    "for number in numbers:\n",
    "    print(number)"
   ]
  },
  {
   "cell_type": "code",
   "execution_count": 39,
   "id": "d9cedad3",
   "metadata": {},
   "outputs": [
    {
     "name": "stdout",
     "output_type": "stream",
     "text": [
      "again!\n",
      "again!\n",
      "again!\n",
      "again!\n",
      "again!\n"
     ]
    }
   ],
   "source": [
    "for number in range(5):\n",
    "    print(\"again!\")"
   ]
  },
  {
   "cell_type": "markdown",
   "id": "13a3767e",
   "metadata": {},
   "source": [
    "### Accumulator pattern"
   ]
  },
  {
   "cell_type": "code",
   "execution_count": 43,
   "id": "d607a543",
   "metadata": {},
   "outputs": [
    {
     "name": "stdout",
     "output_type": "stream",
     "text": [
      "55\n"
     ]
    }
   ],
   "source": [
    "# sum of the first 10 integers\n",
    "\n",
    "total = 0 # accumulator variable\n",
    "for number in range(10): #remember range will be numbers 0 - 9\n",
    "    total = total + (number + 1)\n",
    "    total = 3 + 3\n",
    "    total = 3\n",
    "print(total)"
   ]
  },
  {
   "cell_type": "code",
   "execution_count": 47,
   "id": "d24ad148",
   "metadata": {},
   "outputs": [
    {
     "name": "stdout",
     "output_type": "stream",
     "text": [
      "3.54 is larger\n",
      "44.361864000000004\n",
      "2.07 is smaller\n",
      "9.22 is larger\n",
      "783.7774480000002\n",
      "1.86 is smaller\n",
      "1.71 is smaller\n"
     ]
    }
   ],
   "source": [
    "masses = [3.54, 2.07, 9.22, 1.86, 1.71]\n",
    "\n",
    "for current_mass in masses:\n",
    "    if current_mass > 3.0:\n",
    "        print(current_mass, \"is larger\")\n",
    "        square = current_mass ** 3\n",
    "        print(square)\n",
    "    else:\n",
    "        print(current_mass, \"is smaller\")\n",
    "        \n"
   ]
  },
  {
   "cell_type": "code",
   "execution_count": 48,
   "id": "670008c2",
   "metadata": {},
   "outputs": [
    {
     "name": "stdout",
     "output_type": "stream",
     "text": [
      "3.54 is larger\n",
      "9.22 is larger\n"
     ]
    }
   ],
   "source": [
    "masses = [3.54, 2.07, 9.22, 1.86, 1.71]\n",
    "\n",
    "for current_mass in masses:\n",
    "    if current_mass > 3.0:\n",
    "        print(current_mass, \"is larger\")"
   ]
  },
  {
   "cell_type": "markdown",
   "id": "a6ec3d8a",
   "metadata": {},
   "source": [
    "For loop that goes through each line in the reader collection.\n",
    "transform the line into all lowercase (lower method)\n",
    "conditional, if the word \"sleep\" is found in the line\n",
    "use the accumulator pattern to increase number of matches by 1."
   ]
  },
  {
   "cell_type": "markdown",
   "id": "f170b06f",
   "metadata": {},
   "source": [
    "# Functions"
   ]
  },
  {
   "cell_type": "code",
   "execution_count": 49,
   "id": "4a93bbaf",
   "metadata": {},
   "outputs": [
    {
     "name": "stdout",
     "output_type": "stream",
     "text": [
      "hello Samuel Turp\n"
     ]
    }
   ],
   "source": [
    "def print_greeting(lastname, firstname):\n",
    "    print(\"hello\", firstname, lastname)\n",
    "\n",
    "print_greeting(\"Turp\", \"Samuel\")\n"
   ]
  },
  {
   "cell_type": "code",
   "execution_count": 50,
   "id": "03327ca5",
   "metadata": {},
   "outputs": [
    {
     "name": "stdout",
     "output_type": "stream",
     "text": [
      "1998/11/7\n"
     ]
    }
   ],
   "source": [
    "def print_date(year, month, day):\n",
    "    # YYYY/MM/DD\n",
    "    joined_date = str(year) + \"/\" + str(month) + \"/\" + str(day)\n",
    "    return joined_date\n",
    "\n",
    "date = print_date(1998, 11, 7)\n",
    "if date == \"1998/11/7\":\n",
    "    print(date)"
   ]
  },
  {
   "cell_type": "code",
   "execution_count": 51,
   "id": "dcfb16c5",
   "metadata": {},
   "outputs": [
    {
     "name": "stdout",
     "output_type": "stream",
     "text": [
      "average is 5.666666666666667\n"
     ]
    }
   ],
   "source": [
    "def average(values):\n",
    "    if len(values) == 0:\n",
    "        return None\n",
    "    return sum(values)/len(values)\n",
    "\n",
    "a = average([1,7,9])\n",
    "print(\"average is\", a)"
   ]
  },
  {
   "cell_type": "markdown",
   "id": "9a3abf84",
   "metadata": {},
   "source": [
    "# Libraries"
   ]
  },
  {
   "cell_type": "code",
   "execution_count": 52,
   "id": "ae561b52",
   "metadata": {},
   "outputs": [
    {
     "name": "stdout",
     "output_type": "stream",
     "text": [
      "C:\\Users\\cturp1\\Desktop\\PythonWorkshop_2022\n"
     ]
    }
   ],
   "source": [
    "import os\n",
    "\n",
    "currentDirectory = os.getcwd()\n",
    "print(currentDirectory)"
   ]
  },
  {
   "cell_type": "code",
   "execution_count": 53,
   "id": "6c737be3",
   "metadata": {},
   "outputs": [
    {
     "name": "stdout",
     "output_type": "stream",
     "text": [
      "C:\\Users\\cturp1\\Desktop\\PythonWorkshop_2022\n"
     ]
    }
   ],
   "source": [
    "import os as OpSys\n",
    "\n",
    "currentDirectory = OpSys.getcwd()\n",
    "print(currentDirectory)"
   ]
  },
  {
   "cell_type": "code",
   "execution_count": null,
   "id": "ad8f3166",
   "metadata": {},
   "outputs": [],
   "source": []
  }
 ],
 "metadata": {
  "kernelspec": {
   "display_name": "Python 3 (ipykernel)",
   "language": "python",
   "name": "python3"
  },
  "language_info": {
   "codemirror_mode": {
    "name": "ipython",
    "version": 3
   },
   "file_extension": ".py",
   "mimetype": "text/x-python",
   "name": "python",
   "nbconvert_exporter": "python",
   "pygments_lexer": "ipython3",
   "version": "3.9.7"
  }
 },
 "nbformat": 4,
 "nbformat_minor": 5
}
